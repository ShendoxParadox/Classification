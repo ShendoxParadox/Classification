{
 "cells": [
  {
   "cell_type": "code",
   "execution_count": 413,
   "metadata": {},
   "outputs": [],
   "source": [
    "%matplotlib inline\n",
    "from ipywidgets import interactive\n",
    "import matplotlib.pyplot as plt\n",
    "import seaborn as sns\n",
    "import numpy as np\n",
    "import pandas as pd"
   ]
  },
  {
   "cell_type": "code",
   "execution_count": 414,
   "metadata": {},
   "outputs": [
    {
     "data": {
      "text/html": [
       "<div>\n",
       "<style scoped>\n",
       "    .dataframe tbody tr th:only-of-type {\n",
       "        vertical-align: middle;\n",
       "    }\n",
       "\n",
       "    .dataframe tbody tr th {\n",
       "        vertical-align: top;\n",
       "    }\n",
       "\n",
       "    .dataframe thead th {\n",
       "        text-align: right;\n",
       "    }\n",
       "</style>\n",
       "<table border=\"1\" class=\"dataframe\">\n",
       "  <thead>\n",
       "    <tr style=\"text-align: right;\">\n",
       "      <th></th>\n",
       "      <th>User ID</th>\n",
       "      <th>Gender</th>\n",
       "      <th>Age</th>\n",
       "      <th>EstimatedSalary</th>\n",
       "      <th>Purchased</th>\n",
       "    </tr>\n",
       "  </thead>\n",
       "  <tbody>\n",
       "    <tr>\n",
       "      <th>0</th>\n",
       "      <td>15624510</td>\n",
       "      <td>Male</td>\n",
       "      <td>19</td>\n",
       "      <td>19000</td>\n",
       "      <td>0</td>\n",
       "    </tr>\n",
       "    <tr>\n",
       "      <th>1</th>\n",
       "      <td>15810944</td>\n",
       "      <td>Male</td>\n",
       "      <td>35</td>\n",
       "      <td>20000</td>\n",
       "      <td>0</td>\n",
       "    </tr>\n",
       "    <tr>\n",
       "      <th>2</th>\n",
       "      <td>15668575</td>\n",
       "      <td>Female</td>\n",
       "      <td>26</td>\n",
       "      <td>43000</td>\n",
       "      <td>0</td>\n",
       "    </tr>\n",
       "    <tr>\n",
       "      <th>3</th>\n",
       "      <td>15603246</td>\n",
       "      <td>Female</td>\n",
       "      <td>27</td>\n",
       "      <td>57000</td>\n",
       "      <td>0</td>\n",
       "    </tr>\n",
       "    <tr>\n",
       "      <th>4</th>\n",
       "      <td>15804002</td>\n",
       "      <td>Male</td>\n",
       "      <td>19</td>\n",
       "      <td>76000</td>\n",
       "      <td>0</td>\n",
       "    </tr>\n",
       "  </tbody>\n",
       "</table>\n",
       "</div>"
      ],
      "text/plain": [
       "    User ID  Gender  Age  EstimatedSalary  Purchased\n",
       "0  15624510    Male   19            19000          0\n",
       "1  15810944    Male   35            20000          0\n",
       "2  15668575  Female   26            43000          0\n",
       "3  15603246  Female   27            57000          0\n",
       "4  15804002    Male   19            76000          0"
      ]
     },
     "execution_count": 414,
     "metadata": {},
     "output_type": "execute_result"
    }
   ],
   "source": [
    "# purchasing data\n",
    "data = pd.read_csv('Social_Network_Ads.csv', delimiter = ';')\n",
    "data.head()"
   ]
  },
  {
   "cell_type": "code",
   "execution_count": 415,
   "metadata": {},
   "outputs": [],
   "source": [
    "def plot_precision_recall_vs_threshold(precisions, recalls, thresholds):\n",
    "    plt.plot(thresholds, precisions[:-1], \"b--\", label=\"Precision\", linewidth=2)\n",
    "    plt.plot(thresholds, recalls[:-1], \"g-\", label=\"Recall\", linewidth=2)\n",
    "    plt.xlabel(\"Threshold\", fontsize=16)\n",
    "    plt.legend(loc=\"upper left\", fontsize=16)\n",
    "    plt.ylim([0, 1])"
   ]
  },
  {
   "cell_type": "code",
   "execution_count": 416,
   "metadata": {},
   "outputs": [],
   "source": [
    "def plot_roc_curve(fpr, tpr, label=None):\n",
    "    plt.plot(fpr, tpr, linewidth=2, label=label)\n",
    "    plt.plot([0, 1], [0, 1], 'k--')\n",
    "    plt.axis([0, 1, 0, 1])\n",
    "    plt.xlabel('False Positive Rate', fontsize=16)\n",
    "    plt.ylabel('True Positive Rate', fontsize=16)"
   ]
  },
  {
   "cell_type": "code",
   "execution_count": 417,
   "metadata": {},
   "outputs": [
    {
     "name": "stdout",
     "output_type": "stream",
     "text": [
      "<class 'pandas.core.frame.DataFrame'>\n",
      "RangeIndex: 400 entries, 0 to 399\n",
      "Data columns (total 5 columns):\n",
      "User ID            400 non-null int64\n",
      "Gender             400 non-null object\n",
      "Age                400 non-null int64\n",
      "EstimatedSalary    400 non-null int64\n",
      "Purchased          400 non-null int64\n",
      "dtypes: int64(4), object(1)\n",
      "memory usage: 15.7+ KB\n"
     ]
    }
   ],
   "source": [
    "data.info()\n",
    "# no null values"
   ]
  },
  {
   "cell_type": "code",
   "execution_count": 418,
   "metadata": {},
   "outputs": [],
   "source": [
    "# Encoding categorical data\n",
    "from sklearn.preprocessing import OneHotEncoder, LabelEncoder\n",
    "LE = LabelEncoder()\n",
    "data['Gender'] = LE.fit_transform(data['Gender'])"
   ]
  },
  {
   "cell_type": "code",
   "execution_count": 419,
   "metadata": {},
   "outputs": [],
   "source": [
    "# drop user id column \n",
    "data = data.drop('User ID', axis=1)"
   ]
  },
  {
   "cell_type": "code",
   "execution_count": 420,
   "metadata": {},
   "outputs": [],
   "source": [
    "data_scale = data[['Age', 'EstimatedSalary']]"
   ]
  },
  {
   "cell_type": "code",
   "execution_count": 421,
   "metadata": {},
   "outputs": [],
   "source": [
    "data_no_scale = data[['Gender', 'Purchased']]"
   ]
  },
  {
   "cell_type": "code",
   "execution_count": 422,
   "metadata": {},
   "outputs": [
    {
     "name": "stderr",
     "output_type": "stream",
     "text": [
      "C:\\ProgramData\\Anaconda3\\lib\\site-packages\\sklearn\\preprocessing\\data.py:323: DataConversionWarning: Data with input dtype int64 were all converted to float64 by MinMaxScaler.\n",
      "  return self.partial_fit(X, y)\n"
     ]
    }
   ],
   "source": [
    "from sklearn.preprocessing import MinMaxScaler\n",
    "sc = MinMaxScaler()\n",
    "data_scale = sc.fit_transform(data_scale)"
   ]
  },
  {
   "cell_type": "code",
   "execution_count": 423,
   "metadata": {},
   "outputs": [],
   "source": [
    "data_scale = pd.DataFrame(data_scale)"
   ]
  },
  {
   "cell_type": "code",
   "execution_count": 424,
   "metadata": {},
   "outputs": [],
   "source": [
    "#concat scaled and not scaled again\n",
    "data = pd.concat([data_scale, data_no_scale], axis=1)"
   ]
  },
  {
   "cell_type": "code",
   "execution_count": 425,
   "metadata": {},
   "outputs": [],
   "source": [
    "data.columns = ['Age', 'EstimatedSalary', 'Gender', 'Purchased']"
   ]
  },
  {
   "cell_type": "code",
   "execution_count": 426,
   "metadata": {},
   "outputs": [],
   "source": [
    "from sklearn.model_selection import StratifiedShuffleSplit\n",
    "\n",
    "split = StratifiedShuffleSplit(n_splits=1, test_size=0.2)\n",
    "for train_index, test_index in split.split(data, data[\"Gender\"]):\n",
    "    data_train = data.loc[train_index]\n",
    "    data_test = data.loc[test_index]"
   ]
  },
  {
   "cell_type": "code",
   "execution_count": 427,
   "metadata": {},
   "outputs": [],
   "source": [
    "X_train_log = data_train[['Age', 'EstimatedSalary', 'Gender']]\n",
    "y_train_log = data_train['Purchased']\n",
    "X_test_log = data_test[['Age', 'EstimatedSalary', 'Gender']]\n",
    "y_test_log = data_test['Purchased']\n",
    "\n",
    "X_train_knn = data_train[['Age', 'EstimatedSalary', 'Gender']]\n",
    "y_train_knn = data_train['Purchased']\n",
    "X_test_knn = data_test[['Age', 'EstimatedSalary', 'Gender']]\n",
    "y_test_knn = data_test['Purchased']"
   ]
  },
  {
   "cell_type": "markdown",
   "metadata": {},
   "source": [
    "# Logistic Regression"
   ]
  },
  {
   "cell_type": "code",
   "execution_count": 428,
   "metadata": {},
   "outputs": [],
   "source": [
    "from sklearn.linear_model import LogisticRegression\n",
    "from sklearn.metrics import accuracy_score"
   ]
  },
  {
   "cell_type": "code",
   "execution_count": 429,
   "metadata": {},
   "outputs": [],
   "source": [
    "model_log = LogisticRegression()"
   ]
  },
  {
   "cell_type": "code",
   "execution_count": 430,
   "metadata": {},
   "outputs": [
    {
     "name": "stderr",
     "output_type": "stream",
     "text": [
      "C:\\ProgramData\\Anaconda3\\lib\\site-packages\\sklearn\\linear_model\\logistic.py:433: FutureWarning: Default solver will be changed to 'lbfgs' in 0.22. Specify a solver to silence this warning.\n",
      "  FutureWarning)\n"
     ]
    },
    {
     "data": {
      "text/plain": [
       "LogisticRegression(C=1.0, class_weight=None, dual=False, fit_intercept=True,\n",
       "          intercept_scaling=1, max_iter=100, multi_class='warn',\n",
       "          n_jobs=None, penalty='l2', random_state=None, solver='warn',\n",
       "          tol=0.0001, verbose=0, warm_start=False)"
      ]
     },
     "execution_count": 430,
     "metadata": {},
     "output_type": "execute_result"
    }
   ],
   "source": [
    "model_log.fit(X_train_log, y_train_log)"
   ]
  },
  {
   "cell_type": "code",
   "execution_count": 431,
   "metadata": {},
   "outputs": [],
   "source": [
    "y_predict_log = model_log.predict(X_train_log)"
   ]
  },
  {
   "cell_type": "code",
   "execution_count": 432,
   "metadata": {},
   "outputs": [],
   "source": [
    "y_predict_test_log = model_log.predict(X_test_log)"
   ]
  },
  {
   "cell_type": "code",
   "execution_count": 433,
   "metadata": {},
   "outputs": [
    {
     "data": {
      "text/plain": [
       "0.821875"
      ]
     },
     "execution_count": 433,
     "metadata": {},
     "output_type": "execute_result"
    }
   ],
   "source": [
    "accuracy_train_log = accuracy_score(y_predict_log, y_train_log)\n",
    "accuracy_train_log"
   ]
  },
  {
   "cell_type": "code",
   "execution_count": 434,
   "metadata": {},
   "outputs": [
    {
     "data": {
      "text/plain": [
       "0.875"
      ]
     },
     "execution_count": 434,
     "metadata": {},
     "output_type": "execute_result"
    }
   ],
   "source": [
    "accuracy_test_log = accuracy_score(y_predict_test_log, y_test_log)\n",
    "accuracy_test_log"
   ]
  },
  {
   "cell_type": "markdown",
   "metadata": {},
   "source": [
    "# KNN Precision Recall ROC-AUC "
   ]
  },
  {
   "cell_type": "code",
   "execution_count": 435,
   "metadata": {},
   "outputs": [],
   "source": [
    "from sklearn.neighbors import KNeighborsClassifier\n",
    "from sklearn.metrics import accuracy_score"
   ]
  },
  {
   "cell_type": "code",
   "execution_count": 436,
   "metadata": {},
   "outputs": [],
   "source": [
    "model_knn = KNeighborsClassifier()"
   ]
  },
  {
   "cell_type": "code",
   "execution_count": 437,
   "metadata": {},
   "outputs": [],
   "source": [
    "from sklearn.model_selection import cross_val_predict\n",
    "y_scores_knn = cross_val_predict(model_knn, X_train_knn, y_train_knn, cv=3,\n",
    "                             method=\"predict_proba\")\n",
    "#y_scores_knn"
   ]
  },
  {
   "cell_type": "code",
   "execution_count": 438,
   "metadata": {},
   "outputs": [],
   "source": [
    "y_scores_knn = y_scores_knn[:, 1]"
   ]
  },
  {
   "cell_type": "code",
   "execution_count": 439,
   "metadata": {},
   "outputs": [],
   "source": [
    "from sklearn.metrics import precision_recall_curve\n",
    "precisions_knn, recalls_knn, thresholds_knn = precision_recall_curve(y_train_knn, y_scores_knn)"
   ]
  },
  {
   "cell_type": "code",
   "execution_count": 440,
   "metadata": {},
   "outputs": [
    {
     "data": {
      "image/png": "[encoded data removed]",
      "text/plain": [
       "<Figure size 1440x720 with 1 Axes>"
      ]
     },
     "metadata": {
      "needs_background": "light"
     },
     "output_type": "display_data"
    }
   ],
   "source": [
    "plt.figure(figsize=(20, 10))\n",
    "plot_precision_recall_vs_threshold(precisions_knn, recalls_knn, thresholds_knn)\n",
    "plt.xlim([0, 1])\n",
    "plt.grid()\n",
    "#save_fig(\"precision_recall_vs_threshold_plot\")\n",
    "plt.show()"
   ]
  },
  {
   "cell_type": "code",
   "execution_count": null,
   "metadata": {},
   "outputs": [],
   "source": []
  },
  {
   "cell_type": "code",
   "execution_count": null,
   "metadata": {},
   "outputs": [],
   "source": []
  },
  {
   "cell_type": "code",
   "execution_count": null,
   "metadata": {},
   "outputs": [],
   "source": []
  },
  {
   "cell_type": "markdown",
   "metadata": {},
   "source": [
    "# Confusion matrix, Presision, Recall and F1score"
   ]
  },
  {
   "cell_type": "code",
   "execution_count": 441,
   "metadata": {},
   "outputs": [
    {
     "data": {
      "text/plain": [
       "array([[194,  12],\n",
       "       [ 45,  69]], dtype=int64)"
      ]
     },
     "execution_count": 441,
     "metadata": {},
     "output_type": "execute_result"
    }
   ],
   "source": [
    "from sklearn.metrics import confusion_matrix\n",
    "conf_train_log = confusion_matrix(y_train_log, y_predict_log)\n",
    "conf_train_log"
   ]
  },
  {
   "cell_type": "code",
   "execution_count": 442,
   "metadata": {},
   "outputs": [
    {
     "data": {
      "text/plain": [
       "array([[47,  4],\n",
       "       [ 6, 23]], dtype=int64)"
      ]
     },
     "execution_count": 442,
     "metadata": {},
     "output_type": "execute_result"
    }
   ],
   "source": [
    "conf_test_log = confusion_matrix(y_test_log, y_predict_test_log)\n",
    "conf_test_log"
   ]
  },
  {
   "cell_type": "code",
   "execution_count": 443,
   "metadata": {},
   "outputs": [
    {
     "data": {
      "text/plain": [
       "0.8518518518518519"
      ]
     },
     "execution_count": 443,
     "metadata": {},
     "output_type": "execute_result"
    }
   ],
   "source": [
    "from sklearn.metrics import precision_score, recall_score\n",
    "precision_train_log = precision_score(y_train_log, y_predict_log)\n",
    "precision_train_log"
   ]
  },
  {
   "cell_type": "code",
   "execution_count": 444,
   "metadata": {},
   "outputs": [
    {
     "data": {
      "text/plain": [
       "0.8518518518518519"
      ]
     },
     "execution_count": 444,
     "metadata": {},
     "output_type": "execute_result"
    }
   ],
   "source": [
    "precision_test_log = precision_score(y_test_log, y_predict_test_log)\n",
    "precision_test_log"
   ]
  },
  {
   "cell_type": "code",
   "execution_count": 445,
   "metadata": {},
   "outputs": [
    {
     "data": {
      "text/plain": [
       "0.6052631578947368"
      ]
     },
     "execution_count": 445,
     "metadata": {},
     "output_type": "execute_result"
    }
   ],
   "source": [
    "recall_train_log = recall_score(y_train_log, y_predict_log)\n",
    "recall_train_log"
   ]
  },
  {
   "cell_type": "code",
   "execution_count": 446,
   "metadata": {},
   "outputs": [
    {
     "data": {
      "text/plain": [
       "0.7931034482758621"
      ]
     },
     "execution_count": 446,
     "metadata": {},
     "output_type": "execute_result"
    }
   ],
   "source": [
    "recall_test_log = recall_score(y_test_log, y_predict_test_log)\n",
    "recall_test_log"
   ]
  },
  {
   "cell_type": "code",
   "execution_count": 447,
   "metadata": {},
   "outputs": [
    {
     "data": {
      "text/plain": [
       "0.7076923076923076"
      ]
     },
     "execution_count": 447,
     "metadata": {},
     "output_type": "execute_result"
    }
   ],
   "source": [
    "from sklearn.metrics import f1_score\n",
    "f1_score_train_log = f1_score(y_train_log, y_predict_log)\n",
    "f1_score_train_log"
   ]
  },
  {
   "cell_type": "code",
   "execution_count": 448,
   "metadata": {},
   "outputs": [
    {
     "data": {
      "text/plain": [
       "0.8214285714285715"
      ]
     },
     "execution_count": 448,
     "metadata": {},
     "output_type": "execute_result"
    }
   ],
   "source": [
    "f1_score_test_log = f1_score(y_test_log, y_predict_test_log)\n",
    "f1_score_test_log"
   ]
  },
  {
   "cell_type": "code",
   "execution_count": 449,
   "metadata": {
    "scrolled": true
   },
   "outputs": [
    {
     "name": "stderr",
     "output_type": "stream",
     "text": [
      "C:\\ProgramData\\Anaconda3\\lib\\site-packages\\sklearn\\linear_model\\logistic.py:433: FutureWarning: Default solver will be changed to 'lbfgs' in 0.22. Specify a solver to silence this warning.\n",
      "  FutureWarning)\n",
      "C:\\ProgramData\\Anaconda3\\lib\\site-packages\\sklearn\\linear_model\\logistic.py:433: FutureWarning: Default solver will be changed to 'lbfgs' in 0.22. Specify a solver to silence this warning.\n",
      "  FutureWarning)\n",
      "C:\\ProgramData\\Anaconda3\\lib\\site-packages\\sklearn\\linear_model\\logistic.py:433: FutureWarning: Default solver will be changed to 'lbfgs' in 0.22. Specify a solver to silence this warning.\n",
      "  FutureWarning)\n"
     ]
    },
    {
     "data": {
      "text/plain": [
       "array([[0.92976224, 0.07023776],\n",
       "       [0.58816429, 0.41183571],\n",
       "       [0.80984773, 0.19015227],\n",
       "       [0.72512721, 0.27487279],\n",
       "       [0.36024634, 0.63975366],\n",
       "       [0.65769039, 0.34230961],\n",
       "       [0.63386049, 0.36613951],\n",
       "       [0.4279596 , 0.5720404 ],\n",
       "       [0.7004601 , 0.2995399 ],\n",
       "       [0.67319761, 0.32680239],\n",
       "       [0.87491681, 0.12508319],\n",
       "       [0.48636861, 0.51363139],\n",
       "       [0.66393608, 0.33606392],\n",
       "       [0.69710242, 0.30289758],\n",
       "       [0.66271759, 0.33728241],\n",
       "       [0.28212478, 0.71787522],\n",
       "       [0.92536763, 0.07463237],\n",
       "       [0.21654782, 0.78345218],\n",
       "       [0.66068375, 0.33931625],\n",
       "       [0.56713127, 0.43286873],\n",
       "       [0.27337858, 0.72662142],\n",
       "       [0.89435063, 0.10564937],\n",
       "       [0.61267412, 0.38732588],\n",
       "       [0.66918736, 0.33081264],\n",
       "       [0.38387445, 0.61612555],\n",
       "       [0.8442398 , 0.1557602 ],\n",
       "       [0.9378061 , 0.0621939 ],\n",
       "       [0.33971458, 0.66028542],\n",
       "       [0.64132851, 0.35867149],\n",
       "       [0.61367943, 0.38632057],\n",
       "       [0.69471009, 0.30528991],\n",
       "       [0.90738936, 0.09261064],\n",
       "       [0.76171023, 0.23828977],\n",
       "       [0.54860493, 0.45139507],\n",
       "       [0.80475898, 0.19524102],\n",
       "       [0.55015407, 0.44984593],\n",
       "       [0.385644  , 0.614356  ],\n",
       "       [0.86554865, 0.13445135],\n",
       "       [0.79937252, 0.20062748],\n",
       "       [0.86176851, 0.13823149],\n",
       "       [0.69914551, 0.30085449],\n",
       "       [0.8395088 , 0.1604912 ],\n",
       "       [0.19308701, 0.80691299],\n",
       "       [0.71486976, 0.28513024],\n",
       "       [0.84740033, 0.15259967],\n",
       "       [0.8032617 , 0.1967383 ],\n",
       "       [0.75493853, 0.24506147],\n",
       "       [0.67691643, 0.32308357],\n",
       "       [0.86514818, 0.13485182],\n",
       "       [0.90727078, 0.09272922],\n",
       "       [0.84558989, 0.15441011],\n",
       "       [0.27797483, 0.72202517],\n",
       "       [0.52742939, 0.47257061],\n",
       "       [0.84981303, 0.15018697],\n",
       "       [0.50276991, 0.49723009],\n",
       "       [0.84911534, 0.15088466],\n",
       "       [0.8237403 , 0.1762597 ],\n",
       "       [0.88361696, 0.11638304],\n",
       "       [0.64202305, 0.35797695],\n",
       "       [0.62225904, 0.37774096],\n",
       "       [0.53738012, 0.46261988],\n",
       "       [0.91230726, 0.08769274],\n",
       "       [0.80236749, 0.19763251],\n",
       "       [0.45398312, 0.54601688],\n",
       "       [0.35444517, 0.64555483],\n",
       "       [0.36463047, 0.63536953],\n",
       "       [0.59810409, 0.40189591],\n",
       "       [0.84231799, 0.15768201],\n",
       "       [0.81882134, 0.18117866],\n",
       "       [0.83242219, 0.16757781],\n",
       "       [0.79654111, 0.20345889],\n",
       "       [0.72941309, 0.27058691],\n",
       "       [0.58581402, 0.41418598],\n",
       "       [0.66271759, 0.33728241],\n",
       "       [0.20803959, 0.79196041],\n",
       "       [0.62339772, 0.37660228],\n",
       "       [0.91307975, 0.08692025],\n",
       "       [0.62571611, 0.37428389],\n",
       "       [0.84137717, 0.15862283],\n",
       "       [0.57499502, 0.42500498],\n",
       "       [0.63447021, 0.36552979],\n",
       "       [0.82176919, 0.17823081],\n",
       "       [0.47779899, 0.52220101],\n",
       "       [0.83535759, 0.16464241],\n",
       "       [0.83915439, 0.16084561],\n",
       "       [0.42726741, 0.57273259],\n",
       "       [0.92613094, 0.07386906],\n",
       "       [0.57957785, 0.42042215],\n",
       "       [0.58845922, 0.41154078],\n",
       "       [0.68655525, 0.31344475],\n",
       "       [0.58331187, 0.41668813],\n",
       "       [0.40572422, 0.59427578],\n",
       "       [0.83368577, 0.16631423],\n",
       "       [0.4788566 , 0.5211434 ],\n",
       "       [0.50973516, 0.49026484],\n",
       "       [0.15522543, 0.84477457],\n",
       "       [0.74951809, 0.25048191],\n",
       "       [0.56658639, 0.43341361],\n",
       "       [0.42296954, 0.57703046],\n",
       "       [0.80409217, 0.19590783],\n",
       "       [0.33795196, 0.66204804],\n",
       "       [0.74963238, 0.25036762],\n",
       "       [0.29615147, 0.70384853],\n",
       "       [0.19201943, 0.80798057],\n",
       "       [0.46406575, 0.53593425],\n",
       "       [0.66444485, 0.33555515],\n",
       "       [0.95079275, 0.04920725],\n",
       "       [0.54670353, 0.45329647],\n",
       "       [0.93077926, 0.06922074],\n",
       "       [0.12338663, 0.87661337],\n",
       "       [0.90637021, 0.09362979],\n",
       "       [0.51117802, 0.48882198],\n",
       "       [0.74706281, 0.25293719],\n",
       "       [0.68599557, 0.31400443],\n",
       "       [0.81104059, 0.18895941],\n",
       "       [0.78482216, 0.21517784],\n",
       "       [0.80861292, 0.19138708],\n",
       "       [0.62599985, 0.37400015],\n",
       "       [0.1371926 , 0.8628074 ],\n",
       "       [0.57071527, 0.42928473],\n",
       "       [0.94100148, 0.05899852],\n",
       "       [0.12546185, 0.87453815],\n",
       "       [0.49233629, 0.50766371],\n",
       "       [0.52585274, 0.47414726],\n",
       "       [0.68876108, 0.31123892],\n",
       "       [0.67972437, 0.32027563],\n",
       "       [0.76539677, 0.23460323],\n",
       "       [0.16300132, 0.83699868],\n",
       "       [0.64690798, 0.35309202],\n",
       "       [0.56536615, 0.43463385],\n",
       "       [0.47991019, 0.52008981],\n",
       "       [0.67511092, 0.32488908],\n",
       "       [0.61115112, 0.38884888],\n",
       "       [0.7227636 , 0.2772364 ],\n",
       "       [0.85580661, 0.14419339],\n",
       "       [0.50535016, 0.49464984],\n",
       "       [0.8193933 , 0.1806067 ],\n",
       "       [0.84693877, 0.15306123],\n",
       "       [0.66073527, 0.33926473],\n",
       "       [0.6245854 , 0.3754146 ],\n",
       "       [0.66753314, 0.33246686],\n",
       "       [0.80461484, 0.19538516],\n",
       "       [0.60819164, 0.39180836],\n",
       "       [0.14632073, 0.85367927],\n",
       "       [0.36772398, 0.63227602],\n",
       "       [0.67544371, 0.32455629],\n",
       "       [0.67353889, 0.32646111],\n",
       "       [0.73130071, 0.26869929],\n",
       "       [0.14839664, 0.85160336],\n",
       "       [0.636351  , 0.363649  ],\n",
       "       [0.71982011, 0.28017989],\n",
       "       [0.37633875, 0.62366125],\n",
       "       [0.64173813, 0.35826187],\n",
       "       [0.65725018, 0.34274982],\n",
       "       [0.76868506, 0.23131494],\n",
       "       [0.59235381, 0.40764619],\n",
       "       [0.82835179, 0.17164821],\n",
       "       [0.17457714, 0.82542286],\n",
       "       [0.83091675, 0.16908325],\n",
       "       [0.10983995, 0.89016005],\n",
       "       [0.75563995, 0.24436005],\n",
       "       [0.63424046, 0.36575954],\n",
       "       [0.63983234, 0.36016766],\n",
       "       [0.96228938, 0.03771062],\n",
       "       [0.89522903, 0.10477097],\n",
       "       [0.76715144, 0.23284856],\n",
       "       [0.73461938, 0.26538062],\n",
       "       [0.58368352, 0.41631648],\n",
       "       [0.90964338, 0.09035662],\n",
       "       [0.54992182, 0.45007818],\n",
       "       [0.72570936, 0.27429064],\n",
       "       [0.89505254, 0.10494746],\n",
       "       [0.23402573, 0.76597427],\n",
       "       [0.93917313, 0.06082687],\n",
       "       [0.61133144, 0.38866856],\n",
       "       [0.75806819, 0.24193181],\n",
       "       [0.48538053, 0.51461947],\n",
       "       [0.76267895, 0.23732105],\n",
       "       [0.88003269, 0.11996731],\n",
       "       [0.35321571, 0.64678429],\n",
       "       [0.55997526, 0.44002474],\n",
       "       [0.67544371, 0.32455629],\n",
       "       [0.12969859, 0.87030141],\n",
       "       [0.80329875, 0.19670125],\n",
       "       [0.90236225, 0.09763775],\n",
       "       [0.41882194, 0.58117806],\n",
       "       [0.66811857, 0.33188143],\n",
       "       [0.25226801, 0.74773199],\n",
       "       [0.87668406, 0.12331594],\n",
       "       [0.70617291, 0.29382709],\n",
       "       [0.85176762, 0.14823238],\n",
       "       [0.58534288, 0.41465712],\n",
       "       [0.20213216, 0.79786784],\n",
       "       [0.61579742, 0.38420258],\n",
       "       [0.8569715 , 0.1430285 ],\n",
       "       [0.82872669, 0.17127331],\n",
       "       [0.27870901, 0.72129099],\n",
       "       [0.91535408, 0.08464592],\n",
       "       [0.7370368 , 0.2629632 ],\n",
       "       [0.368952  , 0.631048  ],\n",
       "       [0.39427478, 0.60572522],\n",
       "       [0.61052379, 0.38947621],\n",
       "       [0.64914263, 0.35085737],\n",
       "       [0.77968671, 0.22031329],\n",
       "       [0.94301575, 0.05698425],\n",
       "       [0.90079037, 0.09920963],\n",
       "       [0.58963585, 0.41036415],\n",
       "       [0.23449912, 0.76550088],\n",
       "       [0.78021399, 0.21978601],\n",
       "       [0.7358793 , 0.2641207 ],\n",
       "       [0.16996354, 0.83003646],\n",
       "       [0.47145267, 0.52854733],\n",
       "       [0.61855841, 0.38144159],\n",
       "       [0.62538178, 0.37461822],\n",
       "       [0.66231164, 0.33768836],\n",
       "       [0.71149281, 0.28850719],\n",
       "       [0.87726802, 0.12273198],\n",
       "       [0.88582042, 0.11417958],\n",
       "       [0.86214031, 0.13785969],\n",
       "       [0.3324697 , 0.6675303 ],\n",
       "       [0.74519437, 0.25480563],\n",
       "       [0.67609093, 0.32390907],\n",
       "       [0.9299906 , 0.0700094 ],\n",
       "       [0.74541989, 0.25458011],\n",
       "       [0.86474952, 0.13525048],\n",
       "       [0.90322986, 0.09677014],\n",
       "       [0.61822983, 0.38177017],\n",
       "       [0.11762453, 0.88237547],\n",
       "       [0.5736302 , 0.4263698 ],\n",
       "       [0.87264307, 0.12735693],\n",
       "       [0.8509943 , 0.1490057 ],\n",
       "       [0.88617865, 0.11382135],\n",
       "       [0.70075794, 0.29924206],\n",
       "       [0.8783144 , 0.1216856 ],\n",
       "       [0.33826748, 0.66173252],\n",
       "       [0.57067306, 0.42932694],\n",
       "       [0.33040996, 0.66959004],\n",
       "       [0.6907641 , 0.3092359 ],\n",
       "       [0.70075794, 0.29924206],\n",
       "       [0.61262219, 0.38737781],\n",
       "       [0.15604361, 0.84395639],\n",
       "       [0.87222928, 0.12777072],\n",
       "       [0.1477855 , 0.8522145 ],\n",
       "       [0.88937216, 0.11062784],\n",
       "       [0.77030311, 0.22969689],\n",
       "       [0.50483298, 0.49516702],\n",
       "       [0.76307379, 0.23692621],\n",
       "       [0.28127443, 0.71872557],\n",
       "       [0.67808579, 0.32191421],\n",
       "       [0.43452159, 0.56547841],\n",
       "       [0.3634429 , 0.6365571 ],\n",
       "       [0.7922013 , 0.2077987 ],\n",
       "       [0.63097416, 0.36902584],\n",
       "       [0.36516324, 0.63483676],\n",
       "       [0.49205748, 0.50794252],\n",
       "       [0.91517964, 0.08482036],\n",
       "       [0.83003302, 0.16996698],\n",
       "       [0.81190778, 0.18809222],\n",
       "       [0.45332746, 0.54667254],\n",
       "       [0.53640029, 0.46359971],\n",
       "       [0.86313117, 0.13686883],\n",
       "       [0.18629533, 0.81370467],\n",
       "       [0.23252174, 0.76747826],\n",
       "       [0.88941807, 0.11058193],\n",
       "       [0.57850842, 0.42149158],\n",
       "       [0.897223  , 0.102777  ],\n",
       "       [0.78424251, 0.21575749],\n",
       "       [0.645917  , 0.354083  ],\n",
       "       [0.51137691, 0.48862309],\n",
       "       [0.74004435, 0.25995565],\n",
       "       [0.51091237, 0.48908763],\n",
       "       [0.60986256, 0.39013744],\n",
       "       [0.72490234, 0.27509766],\n",
       "       [0.77769777, 0.22230223],\n",
       "       [0.51880244, 0.48119756],\n",
       "       [0.78953953, 0.21046047],\n",
       "       [0.69106145, 0.30893855],\n",
       "       [0.65321361, 0.34678639],\n",
       "       [0.24227696, 0.75772304],\n",
       "       [0.40499887, 0.59500113],\n",
       "       [0.74545867, 0.25454133],\n",
       "       [0.51342329, 0.48657671],\n",
       "       [0.58713441, 0.41286559],\n",
       "       [0.52351354, 0.47648646],\n",
       "       [0.73388794, 0.26611206],\n",
       "       [0.51934026, 0.48065974],\n",
       "       [0.36047708, 0.63952292],\n",
       "       [0.76666619, 0.23333381],\n",
       "       [0.73771366, 0.26228634],\n",
       "       [0.9044414 , 0.0955586 ],\n",
       "       [0.87726802, 0.12273198],\n",
       "       [0.45247934, 0.54752066],\n",
       "       [0.89165341, 0.10834659],\n",
       "       [0.55512997, 0.44487003],\n",
       "       [0.88287456, 0.11712544],\n",
       "       [0.4860632 , 0.5139368 ],\n",
       "       [0.5924883 , 0.4075117 ],\n",
       "       [0.76491671, 0.23508329],\n",
       "       [0.94657534, 0.05342466],\n",
       "       [0.55914119, 0.44085881],\n",
       "       [0.89647675, 0.10352325],\n",
       "       [0.56307204, 0.43692796],\n",
       "       [0.31052139, 0.68947861],\n",
       "       [0.64697836, 0.35302164],\n",
       "       [0.82181894, 0.17818106],\n",
       "       [0.63636579, 0.36363421],\n",
       "       [0.75683335, 0.24316665],\n",
       "       [0.31191536, 0.68808464],\n",
       "       [0.21073687, 0.78926313],\n",
       "       [0.42586713, 0.57413287],\n",
       "       [0.70318754, 0.29681246],\n",
       "       [0.53397379, 0.46602621],\n",
       "       [0.75802812, 0.24197188],\n",
       "       [0.43185719, 0.56814281],\n",
       "       [0.52571536, 0.47428464],\n",
       "       [0.6236273 , 0.3763727 ],\n",
       "       [0.58844421, 0.41155579],\n",
       "       [0.31618321, 0.68381679],\n",
       "       [0.78025706, 0.21974294],\n",
       "       [0.63010798, 0.36989202]])"
      ]
     },
     "execution_count": 449,
     "metadata": {},
     "output_type": "execute_result"
    }
   ],
   "source": [
    "from sklearn.model_selection import cross_val_predict\n",
    "y_scores_log = cross_val_predict(model_log, X_train_log, y_train_log, cv=3,\n",
    "                             method=\"predict_proba\")\n",
    "y_scores_log"
   ]
  },
  {
   "cell_type": "code",
   "execution_count": 450,
   "metadata": {},
   "outputs": [],
   "source": [
    "y_scores_log = y_scores_log[:, 1]"
   ]
  },
  {
   "cell_type": "code",
   "execution_count": 451,
   "metadata": {},
   "outputs": [],
   "source": [
    "from sklearn.metrics import precision_recall_curve\n",
    "precisions_log, recalls_log, thresholds_log = precision_recall_curve(y_train_log, y_scores_log)"
   ]
  },
  {
   "cell_type": "code",
   "execution_count": 452,
   "metadata": {
    "scrolled": false
   },
   "outputs": [
    {
     "data": {
      "image/png": "[encoded data removed]",
      "text/plain": [
       "<Figure size 1440x720 with 1 Axes>"
      ]
     },
     "metadata": {
      "needs_background": "light"
     },
     "output_type": "display_data"
    }
   ],
   "source": [
    "plt.figure(figsize=(20, 10))\n",
    "plot_precision_recall_vs_threshold(precisions_log, recalls_log, thresholds_log)\n",
    "plt.xlim([0.2, 1])\n",
    "plt.grid()\n",
    "#save_fig(\"precision_recall_vs_threshold_plot\")\n",
    "plt.show()"
   ]
  },
  {
   "cell_type": "markdown",
   "metadata": {},
   "source": [
    "# ROC-AUC "
   ]
  },
  {
   "cell_type": "code",
   "execution_count": 453,
   "metadata": {},
   "outputs": [],
   "source": [
    "from sklearn.metrics import roc_auc_score"
   ]
  },
  {
   "cell_type": "code",
   "execution_count": 454,
   "metadata": {},
   "outputs": [
    {
     "data": {
      "text/plain": [
       "0.9249276102878555"
      ]
     },
     "execution_count": 454,
     "metadata": {},
     "output_type": "execute_result"
    }
   ],
   "source": [
    "roc_auc_score(y_train_knn, y_scores_knn)"
   ]
  },
  {
   "cell_type": "code",
   "execution_count": 455,
   "metadata": {},
   "outputs": [
    {
     "data": {
      "text/plain": [
       "0.9140265712825754"
      ]
     },
     "execution_count": 455,
     "metadata": {},
     "output_type": "execute_result"
    }
   ],
   "source": [
    "roc_auc_score(y_train_log, y_scores_log)"
   ]
  },
  {
   "cell_type": "code",
   "execution_count": 456,
   "metadata": {},
   "outputs": [],
   "source": [
    "from sklearn.metrics import roc_curve"
   ]
  },
  {
   "cell_type": "code",
   "execution_count": 457,
   "metadata": {},
   "outputs": [],
   "source": [
    "fpr_knn, tpr_knn, thresholds_knn = roc_curve(y_train_knn, y_scores_knn)"
   ]
  },
  {
   "cell_type": "code",
   "execution_count": 458,
   "metadata": {},
   "outputs": [],
   "source": [
    "fpr_log, tpr_log, thresholds_log = roc_curve(y_train_log, y_scores_log)"
   ]
  },
  {
   "cell_type": "code",
   "execution_count": 459,
   "metadata": {},
   "outputs": [
    {
     "data": {
      "image/png": "[encoded data removed]",
      "text/plain": [
       "<Figure size 1440x720 with 1 Axes>"
      ]
     },
     "metadata": {
      "needs_background": "light"
     },
     "output_type": "display_data"
    }
   ],
   "source": [
    "plt.figure(figsize=(20, 10))\n",
    "plt.plot(fpr_knn, tpr_knn, \"r:\", linewidth=5, label=\"KNN\")\n",
    "plt.plot(fpr_log, tpr_log, \"g\", linewidth=5, label=\"Logistic Regression\")\n",
    "plot_roc_curve(fpr_log, tpr_log, \"Logistic Regression\")\n",
    "plt.legend(loc=\"lower right\", fontsize=16)\n",
    "#save_fig(\"roc_curve_comparison_plot\")\n",
    "plt.show()"
   ]
  },
  {
   "cell_type": "code",
   "execution_count": null,
   "metadata": {},
   "outputs": [],
   "source": []
  },
  {
   "cell_type": "code",
   "execution_count": null,
   "metadata": {},
   "outputs": [],
   "source": []
  }
 ],
 "metadata": {
  "kernelspec": {
   "display_name": "Python 3",
   "language": "python",
   "name": "python3"
  },
  "language_info": {
   "codemirror_mode": {
    "name": "ipython",
    "version": 3
   },
   "file_extension": ".py",
   "mimetype": "text/x-python",
   "name": "python",
   "nbconvert_exporter": "python",
   "pygments_lexer": "ipython3",
   "version": "3.7.1"
  }
 },
 "nbformat": 4,
 "nbformat_minor": 2
}
