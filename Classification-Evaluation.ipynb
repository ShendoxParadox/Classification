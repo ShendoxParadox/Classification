{
 "cells": [
  {
   "cell_type": "code",
   "execution_count": 68,
   "metadata": {},
   "outputs": [],
   "source": [
    "%matplotlib inline\n",
    "from ipywidgets import interactive\n",
    "import matplotlib.pyplot as plt\n",
    "import seaborn as sns\n",
    "import numpy as np\n",
    "import pandas as pd"
   ]
  },
  {
   "cell_type": "code",
   "execution_count": 69,
   "metadata": {},
   "outputs": [
    {
     "data": {
      "text/html": [
       "<div>\n",
       "<style scoped>\n",
       "    .dataframe tbody tr th:only-of-type {\n",
       "        vertical-align: middle;\n",
       "    }\n",
       "\n",
       "    .dataframe tbody tr th {\n",
       "        vertical-align: top;\n",
       "    }\n",
       "\n",
       "    .dataframe thead th {\n",
       "        text-align: right;\n",
       "    }\n",
       "</style>\n",
       "<table border=\"1\" class=\"dataframe\">\n",
       "  <thead>\n",
       "    <tr style=\"text-align: right;\">\n",
       "      <th></th>\n",
       "      <th>User ID</th>\n",
       "      <th>Gender</th>\n",
       "      <th>Age</th>\n",
       "      <th>EstimatedSalary</th>\n",
       "      <th>Purchased</th>\n",
       "    </tr>\n",
       "  </thead>\n",
       "  <tbody>\n",
       "    <tr>\n",
       "      <th>0</th>\n",
       "      <td>15624510</td>\n",
       "      <td>Male</td>\n",
       "      <td>19</td>\n",
       "      <td>19000</td>\n",
       "      <td>0</td>\n",
       "    </tr>\n",
       "    <tr>\n",
       "      <th>1</th>\n",
       "      <td>15810944</td>\n",
       "      <td>Male</td>\n",
       "      <td>35</td>\n",
       "      <td>20000</td>\n",
       "      <td>0</td>\n",
       "    </tr>\n",
       "    <tr>\n",
       "      <th>2</th>\n",
       "      <td>15668575</td>\n",
       "      <td>Female</td>\n",
       "      <td>26</td>\n",
       "      <td>43000</td>\n",
       "      <td>0</td>\n",
       "    </tr>\n",
       "    <tr>\n",
       "      <th>3</th>\n",
       "      <td>15603246</td>\n",
       "      <td>Female</td>\n",
       "      <td>27</td>\n",
       "      <td>57000</td>\n",
       "      <td>0</td>\n",
       "    </tr>\n",
       "    <tr>\n",
       "      <th>4</th>\n",
       "      <td>15804002</td>\n",
       "      <td>Male</td>\n",
       "      <td>19</td>\n",
       "      <td>76000</td>\n",
       "      <td>0</td>\n",
       "    </tr>\n",
       "  </tbody>\n",
       "</table>\n",
       "</div>"
      ],
      "text/plain": [
       "    User ID  Gender  Age  EstimatedSalary  Purchased\n",
       "0  15624510    Male   19            19000          0\n",
       "1  15810944    Male   35            20000          0\n",
       "2  15668575  Female   26            43000          0\n",
       "3  15603246  Female   27            57000          0\n",
       "4  15804002    Male   19            76000          0"
      ]
     },
     "execution_count": 69,
     "metadata": {},
     "output_type": "execute_result"
    }
   ],
   "source": [
    "# purchasing data\n",
    "data = pd.read_csv('Social_Network_Ads.csv', delimiter = ';')\n",
    "data.head()"
   ]
  },
  {
   "cell_type": "code",
   "execution_count": 70,
   "metadata": {},
   "outputs": [
    {
     "name": "stdout",
     "output_type": "stream",
     "text": [
      "<class 'pandas.core.frame.DataFrame'>\n",
      "RangeIndex: 400 entries, 0 to 399\n",
      "Data columns (total 5 columns):\n",
      "User ID            400 non-null int64\n",
      "Gender             400 non-null object\n",
      "Age                400 non-null int64\n",
      "EstimatedSalary    400 non-null int64\n",
      "Purchased          400 non-null int64\n",
      "dtypes: int64(4), object(1)\n",
      "memory usage: 15.7+ KB\n"
     ]
    }
   ],
   "source": [
    "data.info()\n",
    "# no null values"
   ]
  },
  {
   "cell_type": "code",
   "execution_count": 71,
   "metadata": {},
   "outputs": [],
   "source": [
    "# Encoding categorical data\n",
    "from sklearn.preprocessing import OneHotEncoder, LabelEncoder\n",
    "LE = LabelEncoder()\n",
    "data['Gender'] = LE.fit_transform(data['Gender'])"
   ]
  },
  {
   "cell_type": "code",
   "execution_count": 72,
   "metadata": {},
   "outputs": [],
   "source": [
    "# drop user id column \n",
    "data = data.drop('User ID', axis=1)"
   ]
  },
  {
   "cell_type": "code",
   "execution_count": 73,
   "metadata": {},
   "outputs": [],
   "source": [
    "data_scale = data[['Age', 'EstimatedSalary']]"
   ]
  },
  {
   "cell_type": "code",
   "execution_count": 74,
   "metadata": {},
   "outputs": [],
   "source": [
    "data_no_scale = data[['Gender', 'Purchased']]"
   ]
  },
  {
   "cell_type": "code",
   "execution_count": 75,
   "metadata": {},
   "outputs": [
    {
     "name": "stderr",
     "output_type": "stream",
     "text": [
      "C:\\ProgramData\\Anaconda3\\lib\\site-packages\\sklearn\\preprocessing\\data.py:323: DataConversionWarning: Data with input dtype int64 were all converted to float64 by MinMaxScaler.\n",
      "  return self.partial_fit(X, y)\n"
     ]
    }
   ],
   "source": [
    "from sklearn.preprocessing import MinMaxScaler\n",
    "sc = MinMaxScaler()\n",
    "data_scale = sc.fit_transform(data_scale)"
   ]
  },
  {
   "cell_type": "code",
   "execution_count": 76,
   "metadata": {},
   "outputs": [],
   "source": [
    "data_scale = pd.DataFrame(data_scale)"
   ]
  },
  {
   "cell_type": "code",
   "execution_count": 77,
   "metadata": {},
   "outputs": [],
   "source": [
    "#concat scaled and not scaled again\n",
    "data = pd.concat([data_scale, data_no_scale], axis=1)"
   ]
  },
  {
   "cell_type": "code",
   "execution_count": 78,
   "metadata": {},
   "outputs": [],
   "source": [
    "data.columns = ['Age', 'EstimatedSalary', 'Gender', 'Purchased']"
   ]
  },
  {
   "cell_type": "code",
   "execution_count": 79,
   "metadata": {},
   "outputs": [],
   "source": [
    "from sklearn.model_selection import StratifiedShuffleSplit\n",
    "\n",
    "split = StratifiedShuffleSplit(n_splits=1, test_size=0.2)\n",
    "for train_index, test_index in split.split(data, data[\"Gender\"]):\n",
    "    data_train = data.loc[train_index]\n",
    "    data_test = data.loc[test_index]"
   ]
  },
  {
   "cell_type": "code",
   "execution_count": 80,
   "metadata": {},
   "outputs": [],
   "source": [
    "X_train = data_train[['Age', 'EstimatedSalary', 'Gender']]\n",
    "y_train = data_train['Purchased']\n",
    "X_test = data_test[['Age', 'EstimatedSalary', 'Gender']]\n",
    "y_test = data_test['Purchased']"
   ]
  },
  {
   "cell_type": "code",
   "execution_count": 81,
   "metadata": {},
   "outputs": [],
   "source": [
    "from sklearn.linear_model import LogisticRegression\n",
    "from sklearn.metrics import accuracy_score"
   ]
  },
  {
   "cell_type": "code",
   "execution_count": 82,
   "metadata": {},
   "outputs": [],
   "source": [
    "model = LogisticRegression()"
   ]
  },
  {
   "cell_type": "code",
   "execution_count": 83,
   "metadata": {},
   "outputs": [
    {
     "name": "stderr",
     "output_type": "stream",
     "text": [
      "C:\\ProgramData\\Anaconda3\\lib\\site-packages\\sklearn\\linear_model\\logistic.py:433: FutureWarning: Default solver will be changed to 'lbfgs' in 0.22. Specify a solver to silence this warning.\n",
      "  FutureWarning)\n"
     ]
    },
    {
     "data": {
      "text/plain": [
       "LogisticRegression(C=1.0, class_weight=None, dual=False, fit_intercept=True,\n",
       "          intercept_scaling=1, max_iter=100, multi_class='warn',\n",
       "          n_jobs=None, penalty='l2', random_state=None, solver='warn',\n",
       "          tol=0.0001, verbose=0, warm_start=False)"
      ]
     },
     "execution_count": 83,
     "metadata": {},
     "output_type": "execute_result"
    }
   ],
   "source": [
    "model.fit(X_train, y_train)"
   ]
  },
  {
   "cell_type": "code",
   "execution_count": 84,
   "metadata": {},
   "outputs": [],
   "source": [
    "y_predict = model.predict(X_train)"
   ]
  },
  {
   "cell_type": "code",
   "execution_count": 85,
   "metadata": {},
   "outputs": [],
   "source": [
    "y_predict_test = model.predict(X_test)"
   ]
  },
  {
   "cell_type": "code",
   "execution_count": 86,
   "metadata": {},
   "outputs": [
    {
     "data": {
      "text/plain": [
       "0.8375"
      ]
     },
     "execution_count": 86,
     "metadata": {},
     "output_type": "execute_result"
    }
   ],
   "source": [
    "accuracy_train = accuracy_score(y_predict, y_train)\n",
    "accuracy_train"
   ]
  },
  {
   "cell_type": "code",
   "execution_count": 87,
   "metadata": {},
   "outputs": [
    {
     "data": {
      "text/plain": [
       "0.7875"
      ]
     },
     "execution_count": 87,
     "metadata": {},
     "output_type": "execute_result"
    }
   ],
   "source": [
    "accuracy_test = accuracy_score(y_predict_test, y_test)\n",
    "accuracy_test"
   ]
  },
  {
   "cell_type": "markdown",
   "metadata": {},
   "source": [
    "# Confusion matrix, Presision, Recall and F1score"
   ]
  },
  {
   "cell_type": "code",
   "execution_count": 88,
   "metadata": {},
   "outputs": [
    {
     "data": {
      "text/plain": [
       "array([[192,  12],\n",
       "       [ 40,  76]], dtype=int64)"
      ]
     },
     "execution_count": 88,
     "metadata": {},
     "output_type": "execute_result"
    }
   ],
   "source": [
    "from sklearn.metrics import confusion_matrix\n",
    "conf_train = confusion_matrix(y_train, y_predict)\n",
    "conf_train"
   ]
  },
  {
   "cell_type": "code",
   "execution_count": 89,
   "metadata": {},
   "outputs": [
    {
     "data": {
      "text/plain": [
       "array([[50,  3],\n",
       "       [14, 13]], dtype=int64)"
      ]
     },
     "execution_count": 89,
     "metadata": {},
     "output_type": "execute_result"
    }
   ],
   "source": [
    "conf_test = confusion_matrix(y_test, y_predict_test)\n",
    "conf_test"
   ]
  },
  {
   "cell_type": "code",
   "execution_count": 90,
   "metadata": {},
   "outputs": [
    {
     "data": {
      "text/plain": [
       "0.8636363636363636"
      ]
     },
     "execution_count": 90,
     "metadata": {},
     "output_type": "execute_result"
    }
   ],
   "source": [
    "from sklearn.metrics import precision_score, recall_score\n",
    "precision_train = precision_score(y_train, y_predict)\n",
    "precision_train"
   ]
  },
  {
   "cell_type": "code",
   "execution_count": 91,
   "metadata": {},
   "outputs": [
    {
     "data": {
      "text/plain": [
       "0.8125"
      ]
     },
     "execution_count": 91,
     "metadata": {},
     "output_type": "execute_result"
    }
   ],
   "source": [
    "precision_test = precision_score(y_test, y_predict_test)\n",
    "precision_test"
   ]
  },
  {
   "cell_type": "code",
   "execution_count": 92,
   "metadata": {},
   "outputs": [
    {
     "data": {
      "text/plain": [
       "0.6551724137931034"
      ]
     },
     "execution_count": 92,
     "metadata": {},
     "output_type": "execute_result"
    }
   ],
   "source": [
    "recall_train = recall_score(y_train, y_predict)\n",
    "recall_train"
   ]
  },
  {
   "cell_type": "code",
   "execution_count": 93,
   "metadata": {},
   "outputs": [
    {
     "data": {
      "text/plain": [
       "0.48148148148148145"
      ]
     },
     "execution_count": 93,
     "metadata": {},
     "output_type": "execute_result"
    }
   ],
   "source": [
    "recall_test = recall_score(y_test, y_predict_test)\n",
    "recall_test"
   ]
  },
  {
   "cell_type": "code",
   "execution_count": 94,
   "metadata": {},
   "outputs": [
    {
     "data": {
      "text/plain": [
       "0.7450980392156864"
      ]
     },
     "execution_count": 94,
     "metadata": {},
     "output_type": "execute_result"
    }
   ],
   "source": [
    "from sklearn.metrics import f1_score\n",
    "f1_score_train = f1_score(y_train, y_predict)\n",
    "f1_score_train"
   ]
  },
  {
   "cell_type": "code",
   "execution_count": 95,
   "metadata": {},
   "outputs": [
    {
     "data": {
      "text/plain": [
       "0.6046511627906976"
      ]
     },
     "execution_count": 95,
     "metadata": {},
     "output_type": "execute_result"
    }
   ],
   "source": [
    "f1_score_test = f1_score(y_test, y_predict_test)\n",
    "f1_score_test"
   ]
  },
  {
   "cell_type": "code",
   "execution_count": 104,
   "metadata": {
    "scrolled": true
   },
   "outputs": [
    {
     "name": "stderr",
     "output_type": "stream",
     "text": [
      "C:\\ProgramData\\Anaconda3\\lib\\site-packages\\sklearn\\linear_model\\logistic.py:433: FutureWarning: Default solver will be changed to 'lbfgs' in 0.22. Specify a solver to silence this warning.\n",
      "  FutureWarning)\n",
      "C:\\ProgramData\\Anaconda3\\lib\\site-packages\\sklearn\\linear_model\\logistic.py:433: FutureWarning: Default solver will be changed to 'lbfgs' in 0.22. Specify a solver to silence this warning.\n",
      "  FutureWarning)\n",
      "C:\\ProgramData\\Anaconda3\\lib\\site-packages\\sklearn\\linear_model\\logistic.py:433: FutureWarning: Default solver will be changed to 'lbfgs' in 0.22. Specify a solver to silence this warning.\n",
      "  FutureWarning)\n"
     ]
    },
    {
     "data": {
      "text/plain": [
       "array([[0.54832174, 0.45167826],\n",
       "       [0.13388772, 0.86611228],\n",
       "       [0.81272852, 0.18727148],\n",
       "       [0.30072266, 0.69927734],\n",
       "       [0.81415153, 0.18584847],\n",
       "       [0.58554748, 0.41445252],\n",
       "       [0.56398745, 0.43601255],\n",
       "       [0.24598165, 0.75401835],\n",
       "       [0.61924602, 0.38075398],\n",
       "       [0.68870762, 0.31129238],\n",
       "       [0.86354445, 0.13645555],\n",
       "       [0.46214533, 0.53785467],\n",
       "       [0.62769313, 0.37230687],\n",
       "       [0.92257189, 0.07742811],\n",
       "       [0.79103331, 0.20896669],\n",
       "       [0.41594936, 0.58405064],\n",
       "       [0.28816491, 0.71183509],\n",
       "       [0.55566397, 0.44433603],\n",
       "       [0.82474892, 0.17525108],\n",
       "       [0.88476406, 0.11523594],\n",
       "       [0.47147219, 0.52852781],\n",
       "       [0.89907168, 0.10092832],\n",
       "       [0.74955521, 0.25044479],\n",
       "       [0.28441314, 0.71558686],\n",
       "       [0.59244397, 0.40755603],\n",
       "       [0.67741326, 0.32258674],\n",
       "       [0.67197922, 0.32802078],\n",
       "       [0.95012065, 0.04987935],\n",
       "       [0.7038706 , 0.2961294 ],\n",
       "       [0.30626384, 0.69373616],\n",
       "       [0.80758325, 0.19241675],\n",
       "       [0.36170183, 0.63829817],\n",
       "       [0.81477449, 0.18522551],\n",
       "       [0.68830392, 0.31169608],\n",
       "       [0.26017221, 0.73982779],\n",
       "       [0.64463451, 0.35536549],\n",
       "       [0.79165493, 0.20834507],\n",
       "       [0.57685926, 0.42314074],\n",
       "       [0.90743197, 0.09256803],\n",
       "       [0.85887518, 0.14112482],\n",
       "       [0.82361104, 0.17638896],\n",
       "       [0.19173717, 0.80826283],\n",
       "       [0.43706588, 0.56293412],\n",
       "       [0.91603251, 0.08396749],\n",
       "       [0.94369425, 0.05630575],\n",
       "       [0.31706714, 0.68293286],\n",
       "       [0.80636008, 0.19363992],\n",
       "       [0.88380099, 0.11619901],\n",
       "       [0.67692355, 0.32307645],\n",
       "       [0.28940535, 0.71059465],\n",
       "       [0.69914809, 0.30085191],\n",
       "       [0.155698  , 0.844302  ],\n",
       "       [0.32813488, 0.67186512],\n",
       "       [0.61302152, 0.38697848],\n",
       "       [0.73079042, 0.26920958],\n",
       "       [0.801625  , 0.198375  ],\n",
       "       [0.68101137, 0.31898863],\n",
       "       [0.90552   , 0.09448   ],\n",
       "       [0.93999513, 0.06000487],\n",
       "       [0.8381089 , 0.1618911 ],\n",
       "       [0.80787558, 0.19212442],\n",
       "       [0.59876617, 0.40123383],\n",
       "       [0.56915145, 0.43084855],\n",
       "       [0.64540666, 0.35459334],\n",
       "       [0.48973488, 0.51026512],\n",
       "       [0.7596961 , 0.2403039 ],\n",
       "       [0.88609369, 0.11390631],\n",
       "       [0.61399902, 0.38600098],\n",
       "       [0.54963138, 0.45036862],\n",
       "       [0.71039465, 0.28960535],\n",
       "       [0.83606002, 0.16393998],\n",
       "       [0.21576706, 0.78423294],\n",
       "       [0.61176601, 0.38823399],\n",
       "       [0.77075878, 0.22924122],\n",
       "       [0.86176025, 0.13823975],\n",
       "       [0.54637622, 0.45362378],\n",
       "       [0.5334077 , 0.4665923 ],\n",
       "       [0.79190057, 0.20809943],\n",
       "       [0.68393675, 0.31606325],\n",
       "       [0.73491419, 0.26508581],\n",
       "       [0.29366762, 0.70633238],\n",
       "       [0.6823144 , 0.3176856 ],\n",
       "       [0.75410792, 0.24589208],\n",
       "       [0.57006589, 0.42993411],\n",
       "       [0.20241961, 0.79758039],\n",
       "       [0.57556766, 0.42443234],\n",
       "       [0.69399073, 0.30600927],\n",
       "       [0.84899884, 0.15100116],\n",
       "       [0.66197606, 0.33802394],\n",
       "       [0.63894261, 0.36105739],\n",
       "       [0.458952  , 0.541048  ],\n",
       "       [0.61923785, 0.38076215],\n",
       "       [0.63859081, 0.36140919],\n",
       "       [0.92149183, 0.07850817],\n",
       "       [0.72409344, 0.27590656],\n",
       "       [0.24286578, 0.75713422],\n",
       "       [0.86424642, 0.13575358],\n",
       "       [0.54273876, 0.45726124],\n",
       "       [0.47614784, 0.52385216],\n",
       "       [0.65910177, 0.34089823],\n",
       "       [0.4579285 , 0.5420715 ],\n",
       "       [0.33027696, 0.66972304],\n",
       "       [0.67280088, 0.32719912],\n",
       "       [0.94757137, 0.05242863],\n",
       "       [0.91366399, 0.08633601],\n",
       "       [0.83580661, 0.16419339],\n",
       "       [0.91982079, 0.08017921],\n",
       "       [0.14641504, 0.85358496],\n",
       "       [0.26007461, 0.73992539],\n",
       "       [0.17628144, 0.82371856],\n",
       "       [0.57375949, 0.42624051],\n",
       "       [0.62533487, 0.37466513],\n",
       "       [0.86128819, 0.13871181],\n",
       "       [0.81052034, 0.18947966],\n",
       "       [0.94516978, 0.05483022],\n",
       "       [0.92601239, 0.07398761],\n",
       "       [0.45296335, 0.54703665],\n",
       "       [0.50688981, 0.49311019],\n",
       "       [0.5082496 , 0.4917504 ],\n",
       "       [0.61544018, 0.38455982],\n",
       "       [0.79962927, 0.20037073],\n",
       "       [0.5482897 , 0.4517103 ],\n",
       "       [0.90950047, 0.09049953],\n",
       "       [0.78367169, 0.21632831],\n",
       "       [0.59130012, 0.40869988],\n",
       "       [0.91615068, 0.08384932],\n",
       "       [0.38083601, 0.61916399],\n",
       "       [0.88525601, 0.11474399],\n",
       "       [0.20446268, 0.79553732],\n",
       "       [0.66360315, 0.33639685],\n",
       "       [0.61797844, 0.38202156],\n",
       "       [0.71463681, 0.28536319],\n",
       "       [0.31683166, 0.68316834],\n",
       "       [0.6121424 , 0.3878576 ],\n",
       "       [0.83316589, 0.16683411],\n",
       "       [0.82812426, 0.17187574],\n",
       "       [0.81216398, 0.18783602],\n",
       "       [0.64260466, 0.35739534],\n",
       "       [0.24196924, 0.75803076],\n",
       "       [0.70542061, 0.29457939],\n",
       "       [0.90565548, 0.09434452],\n",
       "       [0.89732158, 0.10267842],\n",
       "       [0.58261104, 0.41738896],\n",
       "       [0.36324419, 0.63675581],\n",
       "       [0.54743394, 0.45256606],\n",
       "       [0.29945702, 0.70054298],\n",
       "       [0.54443492, 0.45556508],\n",
       "       [0.17684963, 0.82315037],\n",
       "       [0.47055197, 0.52944803],\n",
       "       [0.30040897, 0.69959103],\n",
       "       [0.8317314 , 0.1682686 ],\n",
       "       [0.78961079, 0.21038921],\n",
       "       [0.32278537, 0.67721463],\n",
       "       [0.89611715, 0.10388285],\n",
       "       [0.66207675, 0.33792325],\n",
       "       [0.26720835, 0.73279165],\n",
       "       [0.90963546, 0.09036454],\n",
       "       [0.36657328, 0.63342672],\n",
       "       [0.67497796, 0.32502204],\n",
       "       [0.68194405, 0.31805595],\n",
       "       [0.55375758, 0.44624242],\n",
       "       [0.18780399, 0.81219601],\n",
       "       [0.45765759, 0.54234241],\n",
       "       [0.75804381, 0.24195619],\n",
       "       [0.81125868, 0.18874132],\n",
       "       [0.90729855, 0.09270145],\n",
       "       [0.94116818, 0.05883182],\n",
       "       [0.91695049, 0.08304951],\n",
       "       [0.92039622, 0.07960378],\n",
       "       [0.81889797, 0.18110203],\n",
       "       [0.67762646, 0.32237354],\n",
       "       [0.84397488, 0.15602512],\n",
       "       [0.6300359 , 0.3699641 ],\n",
       "       [0.62104392, 0.37895608],\n",
       "       [0.76794687, 0.23205313],\n",
       "       [0.77891247, 0.22108753],\n",
       "       [0.57966614, 0.42033386],\n",
       "       [0.19117192, 0.80882808],\n",
       "       [0.44286738, 0.55713262],\n",
       "       [0.30426953, 0.69573047],\n",
       "       [0.90662198, 0.09337802],\n",
       "       [0.8788703 , 0.1211297 ],\n",
       "       [0.66437392, 0.33562608],\n",
       "       [0.89212078, 0.10787922],\n",
       "       [0.66756946, 0.33243054],\n",
       "       [0.59013604, 0.40986396],\n",
       "       [0.63734306, 0.36265694],\n",
       "       [0.33097044, 0.66902956],\n",
       "       [0.47266296, 0.52733704],\n",
       "       [0.60091854, 0.39908146],\n",
       "       [0.38047475, 0.61952525],\n",
       "       [0.86186242, 0.13813758],\n",
       "       [0.71639622, 0.28360378],\n",
       "       [0.11877444, 0.88122556],\n",
       "       [0.92389024, 0.07610976],\n",
       "       [0.20997804, 0.79002196],\n",
       "       [0.34858009, 0.65141991],\n",
       "       [0.84122405, 0.15877595],\n",
       "       [0.85585296, 0.14414704],\n",
       "       [0.42090363, 0.57909637],\n",
       "       [0.11255948, 0.88744052],\n",
       "       [0.74382412, 0.25617588],\n",
       "       [0.72325856, 0.27674144],\n",
       "       [0.79650585, 0.20349415],\n",
       "       [0.81596359, 0.18403641],\n",
       "       [0.72663099, 0.27336901],\n",
       "       [0.29582043, 0.70417957],\n",
       "       [0.35850001, 0.64149999],\n",
       "       [0.25998737, 0.74001263],\n",
       "       [0.65869028, 0.34130972],\n",
       "       [0.41556788, 0.58443212],\n",
       "       [0.9399677 , 0.0600323 ],\n",
       "       [0.46919681, 0.53080319],\n",
       "       [0.72260043, 0.27739957],\n",
       "       [0.16741196, 0.83258804],\n",
       "       [0.83380337, 0.16619663],\n",
       "       [0.3394178 , 0.6605822 ],\n",
       "       [0.89232943, 0.10767057],\n",
       "       [0.68303717, 0.31696283],\n",
       "       [0.6935374 , 0.3064626 ],\n",
       "       [0.70426377, 0.29573623],\n",
       "       [0.6053856 , 0.3946144 ],\n",
       "       [0.75601312, 0.24398688],\n",
       "       [0.53802241, 0.46197759],\n",
       "       [0.54738226, 0.45261774],\n",
       "       [0.1326709 , 0.8673291 ],\n",
       "       [0.76047828, 0.23952172],\n",
       "       [0.7991425 , 0.2008575 ],\n",
       "       [0.77902337, 0.22097663],\n",
       "       [0.83833765, 0.16166235],\n",
       "       [0.64874997, 0.35125003],\n",
       "       [0.30223334, 0.69776666],\n",
       "       [0.38074946, 0.61925054],\n",
       "       [0.62520359, 0.37479641],\n",
       "       [0.73406304, 0.26593696],\n",
       "       [0.46664389, 0.53335611],\n",
       "       [0.67063111, 0.32936889],\n",
       "       [0.74389478, 0.25610522],\n",
       "       [0.35008779, 0.64991221],\n",
       "       [0.73444051, 0.26555949],\n",
       "       [0.67036285, 0.32963715],\n",
       "       [0.49342016, 0.50657984],\n",
       "       [0.68345583, 0.31654417],\n",
       "       [0.17059321, 0.82940679],\n",
       "       [0.2577935 , 0.7422065 ],\n",
       "       [0.81032782, 0.18967218],\n",
       "       [0.71838296, 0.28161704],\n",
       "       [0.75766822, 0.24233178],\n",
       "       [0.70510454, 0.29489546],\n",
       "       [0.66038685, 0.33961315],\n",
       "       [0.59850371, 0.40149629],\n",
       "       [0.57128534, 0.42871466],\n",
       "       [0.25561412, 0.74438588],\n",
       "       [0.13309062, 0.86690938],\n",
       "       [0.80846951, 0.19153049],\n",
       "       [0.94967717, 0.05032283],\n",
       "       [0.85133509, 0.14866491],\n",
       "       [0.57869806, 0.42130194],\n",
       "       [0.84439629, 0.15560371],\n",
       "       [0.87284383, 0.12715617],\n",
       "       [0.7402381 , 0.2597619 ],\n",
       "       [0.72391447, 0.27608553],\n",
       "       [0.91618037, 0.08381963],\n",
       "       [0.89566408, 0.10433592],\n",
       "       [0.87682977, 0.12317023],\n",
       "       [0.70996064, 0.29003936],\n",
       "       [0.85661934, 0.14338066],\n",
       "       [0.72211339, 0.27788661],\n",
       "       [0.68145782, 0.31854218],\n",
       "       [0.5525656 , 0.4474344 ],\n",
       "       [0.94376546, 0.05623454],\n",
       "       [0.55905702, 0.44094298],\n",
       "       [0.41192387, 0.58807613],\n",
       "       [0.74832192, 0.25167808],\n",
       "       [0.65471791, 0.34528209],\n",
       "       [0.90918862, 0.09081138],\n",
       "       [0.47248902, 0.52751098],\n",
       "       [0.52030936, 0.47969064],\n",
       "       [0.71425407, 0.28574593],\n",
       "       [0.65993121, 0.34006879],\n",
       "       [0.84305036, 0.15694964],\n",
       "       [0.77531105, 0.22468895],\n",
       "       [0.32815478, 0.67184522],\n",
       "       [0.38610433, 0.61389567],\n",
       "       [0.70636535, 0.29363465],\n",
       "       [0.10583446, 0.89416554],\n",
       "       [0.70062764, 0.29937236],\n",
       "       [0.12508838, 0.87491162],\n",
       "       [0.50988031, 0.49011969],\n",
       "       [0.3123931 , 0.6876069 ],\n",
       "       [0.5454542 , 0.4545458 ],\n",
       "       [0.66912926, 0.33087074],\n",
       "       [0.68214092, 0.31785908],\n",
       "       [0.73986595, 0.26013405],\n",
       "       [0.93485639, 0.06514361],\n",
       "       [0.55696074, 0.44303926],\n",
       "       [0.81666254, 0.18333746],\n",
       "       [0.65373095, 0.34626905],\n",
       "       [0.93524923, 0.06475077],\n",
       "       [0.78755321, 0.21244679],\n",
       "       [0.83636638, 0.16363362],\n",
       "       [0.5105865 , 0.4894135 ],\n",
       "       [0.50532807, 0.49467193],\n",
       "       [0.38583943, 0.61416057],\n",
       "       [0.62147998, 0.37852002],\n",
       "       [0.29614353, 0.70385647],\n",
       "       [0.4896551 , 0.5103449 ],\n",
       "       [0.46606354, 0.53393646],\n",
       "       [0.6079932 , 0.3920068 ],\n",
       "       [0.94300449, 0.05699551],\n",
       "       [0.80434979, 0.19565021],\n",
       "       [0.26631873, 0.73368127],\n",
       "       [0.70230409, 0.29769591],\n",
       "       [0.15723844, 0.84276156],\n",
       "       [0.47261214, 0.52738786],\n",
       "       [0.43769539, 0.56230461],\n",
       "       [0.76523484, 0.23476516],\n",
       "       [0.12146977, 0.87853023],\n",
       "       [0.70037289, 0.29962711],\n",
       "       [0.69420622, 0.30579378]])"
      ]
     },
     "execution_count": 104,
     "metadata": {},
     "output_type": "execute_result"
    }
   ],
   "source": [
    "from sklearn.model_selection import cross_val_predict\n",
    "y_scores = cross_val_predict(model, X_train, y_train, cv=3,\n",
    "                             method=\"predict_proba\")\n",
    "y_scores"
   ]
  },
  {
   "cell_type": "code",
   "execution_count": 105,
   "metadata": {},
   "outputs": [],
   "source": [
    "y_scores = y_scores[:, 1]"
   ]
  },
  {
   "cell_type": "code",
   "execution_count": 106,
   "metadata": {},
   "outputs": [],
   "source": [
    "from sklearn.metrics import precision_recall_curve\n",
    "precisions, recalls, thresholds = precision_recall_curve(y_train, y_scores)"
   ]
  },
  {
   "cell_type": "code",
   "execution_count": 110,
   "metadata": {},
   "outputs": [
    {
     "data": {
      "image/png": "[encoded data removed]",
      "text/plain": [
       "<Figure size 1440x720 with 1 Axes>"
      ]
     },
     "metadata": {
      "needs_background": "light"
     },
     "output_type": "display_data"
    }
   ],
   "source": [
    "def plot_precision_recall_vs_threshold(precisions, recalls, thresholds):\n",
    "    plt.plot(thresholds, precisions[:-1], \"b--\", label=\"Precision\", linewidth=2)\n",
    "    plt.plot(thresholds, recalls[:-1], \"g-\", label=\"Recall\", linewidth=2)\n",
    "    plt.xlabel(\"Threshold\", fontsize=16)\n",
    "    plt.legend(loc=\"upper left\", fontsize=16)\n",
    "    plt.ylim([0, 1])\n",
    "\n",
    "plt.figure(figsize=(20, 10))\n",
    "plot_precision_recall_vs_threshold(precisions, recalls, thresholds)\n",
    "plt.xlim([0, 1])\n",
    "#save_fig(\"precision_recall_vs_threshold_plot\")\n",
    "plt.show()"
   ]
  },
  {
   "cell_type": "code",
   "execution_count": null,
   "metadata": {},
   "outputs": [],
   "source": []
  }
 ],
 "metadata": {
  "kernelspec": {
   "display_name": "Python 3",
   "language": "python",
   "name": "python3"
  },
  "language_info": {
   "codemirror_mode": {
    "name": "ipython",
    "version": 3
   },
   "file_extension": ".py",
   "mimetype": "text/x-python",
   "name": "python",
   "nbconvert_exporter": "python",
   "pygments_lexer": "ipython3",
   "version": "3.7.1"
  }
 },
 "nbformat": 4,
 "nbformat_minor": 2
}
